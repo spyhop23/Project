{
  "nbformat": 4,
  "nbformat_minor": 0,
  "metadata": {
    "colab": {
      "provenance": []
    },
    "kernelspec": {
      "name": "python3",
      "display_name": "Python 3"
    },
    "language_info": {
      "name": "python"
    }
  },
  "cells": [
    {
      "cell_type": "code",
      "execution_count": 75,
      "metadata": {
        "id": "ff3LXsDlwGCR"
      },
      "outputs": [],
      "source": [
        "import pandas as pd\n",
        "import numpy as np\n",
        "import matplotlib.pyplot as plt\n",
        "from scipy.stats import ttest_ind"
      ]
    },
    {
      "cell_type": "code",
      "source": [
        "data_login_logs = pd.read_csv('login_logs.csv')\n",
        "data_subscription_logs = pd.read_csv('subscription_logs.csv')\n",
        "data_view_logs = pd.read_csv('view_logs.csv')"
      ],
      "metadata": {
        "id": "PUwsqO4_wcX4"
      },
      "execution_count": 63,
      "outputs": []
    },
    {
      "cell_type": "markdown",
      "source": [
        "**DAU, WAU, MAU, Stickiness 분석**"
      ],
      "metadata": {
        "id": "myE-6bp6EFmy"
      }
    },
    {
      "cell_type": "code",
      "source": [
        "data_login_logs['login_time'] = pd.to_datetime(data_login_logs['login_time'])"
      ],
      "metadata": {
        "id": "BlOAoEi7wo46"
      },
      "execution_count": 29,
      "outputs": []
    },
    {
      "cell_type": "code",
      "source": [
        "data_login_logs['date'] = data_login_logs['login_time'].dt.date\n",
        "data_login_logs['week'] = data_login_logs['login_time'].dt.isocalendar().week\n",
        "data_login_logs['month'] = data_login_logs['login_time'].dt.to_period('M')\n",
        "data_login_logs['year'] = data_login_logs['login_time'].dt.year"
      ],
      "metadata": {
        "id": "ptsddaISxSrs"
      },
      "execution_count": 30,
      "outputs": []
    },
    {
      "cell_type": "code",
      "source": [
        "dau = data_login_logs.groupby('date')['user_id'].nunique().reset_index(name='DAU')\n",
        "dau['year'] = pd.to_datetime(dau['date']).dt.year\n",
        "wau = data_login_logs.groupby('week')['user_id'].nunique().reset_index(name='WAU')\n",
        "mau = data_login_logs.groupby('month')['user_id'].nunique().reset_index(name='MAU')\n",
        "mau['year'] = mau['month'].dt.year"
      ],
      "metadata": {
        "id": "021Bm7MQyVJs"
      },
      "execution_count": 31,
      "outputs": []
    },
    {
      "cell_type": "code",
      "source": [
        "annual_dau = dau.groupby('year')['DAU'].mean().reset_index(name='Average_DAU')\n",
        "annual_mau = mau.groupby('year')['MAU'].mean().reset_index(name='Average_MAU')\n",
        "\n",
        "annual_stickiness = pd.merge(annual_dau, annual_mau, on='year')\n",
        "annual_stickiness['Stickiness (%)'] = (annual_stickiness['Average_DAU'] / annual_stickiness['Average_MAU']) * 100"
      ],
      "metadata": {
        "id": "AUZ9AHhU0Beo"
      },
      "execution_count": 32,
      "outputs": []
    },
    {
      "cell_type": "code",
      "source": [
        "plt.figure(figsize=(10, 6))\n",
        "plt.bar(annual_stickiness['year'], annual_stickiness['Stickiness (%)'], alpha=0.7)\n",
        "plt.title('Yearly Stickiness', fontsize=16)\n",
        "plt.xlabel('Year', fontsize=12)\n",
        "plt.ylabel('Stickiness (%)', fontsize=12)\n",
        "plt.xticks(annual_stickiness['year'])\n",
        "plt.grid(axis='y', linestyle='--', alpha=0.7)\n",
        "plt.show()"
      ],
      "metadata": {
        "colab": {
          "base_uri": "https://localhost:8080/",
          "height": 570
        },
        "id": "8ciyEISG0y0N",
        "outputId": "5e8ac5aa-1df4-4db1-ced9-fa22935200d2"
      },
      "execution_count": 37,
      "outputs": [
        {
          "output_type": "display_data",
          "data": {
            "text/plain": [
              "<Figure size 1000x600 with 1 Axes>"
            ],
            "image/png": "[encoded data removed]"
          },
          "metadata": {}
        }
      ]
    },
    {
      "cell_type": "markdown",
      "source": [
        "**재구독율 분석**"
      ],
      "metadata": {
        "id": "YFIDh6uUEhY8"
      }
    },
    {
      "cell_type": "code",
      "source": [
        "data_subscription_logs['subscription_start'] = pd.to_datetime(data_subscription_logs['subscription_start'])\n",
        "data_subscription_logs['subscription_end'] = pd.to_datetime(data_subscription_logs['subscription_end'])"
      ],
      "metadata": {
        "id": "ICwLukR21OsV"
      },
      "execution_count": 38,
      "outputs": []
    },
    {
      "cell_type": "code",
      "source": [
        "subscription_counts = data_subscription_logs.groupby('user_id')['subscription_start'].count().reset_index(name='subscription_count')"
      ],
      "metadata": {
        "id": "_-7w85iIASD2"
      },
      "execution_count": 52,
      "outputs": []
    },
    {
      "cell_type": "code",
      "source": [
        "# 재구독자 수\n",
        "resubscribed_users = subscription_counts[subscription_counts['subscription_count'] > 1]['user_id'].nunique()"
      ],
      "metadata": {
        "id": "2OgxXviZAYk5"
      },
      "execution_count": 54,
      "outputs": []
    },
    {
      "cell_type": "code",
      "source": [
        "# 전체 이탈 사용자 수\n",
        "churners = subscription_counts[subscription_counts['subscription_count'] == 1]['user_id'].nunique()"
      ],
      "metadata": {
        "id": "rljmSsSn51ft"
      },
      "execution_count": 59,
      "outputs": []
    },
    {
      "cell_type": "code",
      "source": [
        "# 재구독율 계산\n",
        "resubscription_rate = (resubscribed_users / churners) * 100"
      ],
      "metadata": {
        "id": "xCFY5-BX6InS"
      },
      "execution_count": 60,
      "outputs": []
    },
    {
      "cell_type": "code",
      "source": [
        "print(f\"전체 이탈 사용자 수: {churners}\")\n",
        "print(f\"재구독 사용자 수: {resubscribed_users}\")\n",
        "print(f\"재구독율: {resubscription_rate:.2f}%\")"
      ],
      "metadata": {
        "colab": {
          "base_uri": "https://localhost:8080/"
        },
        "id": "RF1azpQz9DJg",
        "outputId": "d95c18cb-73cb-4b7a-dda2-e08d74f9fca8"
      },
      "execution_count": 61,
      "outputs": [
        {
          "output_type": "stream",
          "name": "stdout",
          "text": [
            "전체 이탈 사용자 수: 2750\n",
            "재구독 사용자 수: 2693\n",
            "재구독율: 97.93%\n"
          ]
        }
      ]
    },
    {
      "cell_type": "markdown",
      "source": [
        "**추천 알고리즘 효과성 분석**"
      ],
      "metadata": {
        "id": "euDbEkS8ElPl"
      }
    },
    {
      "cell_type": "code",
      "source": [
        "data_view_logs['recommended'] = data_view_logs['recommended'].astype(bool)"
      ],
      "metadata": {
        "id": "0E16qJL-EoFm"
      },
      "execution_count": 64,
      "outputs": []
    },
    {
      "cell_type": "code",
      "source": [
        "recommended_views = data_view_logs[data_view_logs['recommended'] == True]\n",
        "non_recommended_views = data_view_logs[data_view_logs['recommended'] == False]"
      ],
      "metadata": {
        "id": "0T0KHasFGplv"
      },
      "execution_count": 70,
      "outputs": []
    },
    {
      "cell_type": "code",
      "source": [
        "# 추천 콘텐츠 완료율\n",
        "total_recommended = len(recommended_views)  # 추천된 콘텐츠의 총 추천 횟수\n",
        "completed_recommended = len(recommended_views[recommended_views['is_completed'] == True])  # 추천 콘텐츠 중 완료된 수\n",
        "completion_rate_recommended = (completed_recommended / total_recommended) * 100"
      ],
      "metadata": {
        "id": "FdqwjsREHZdI"
      },
      "execution_count": 73,
      "outputs": []
    },
    {
      "cell_type": "code",
      "source": [
        "# 평균 시청 시간 비교\n",
        "avg_watch_time_recommended = recommended_views['watched_duration'].mean()\n",
        "avg_watch_time_non_recommended = non_recommended_views['watched_duration'].mean()\n",
        "\n",
        "# 결과 출력\n",
        "print(f\"추천 콘텐츠 시청완료율: {completion_rate_recommended:.2f}%\")\n",
        "print(f\"추천 콘텐츠 평균 시청 시간: {avg_watch_time_recommended:.2f}초\")\n",
        "print(f\"비추천 콘텐츠 평균 시청 시간: {avg_watch_time_non_recommended:.2f}초\")"
      ],
      "metadata": {
        "colab": {
          "base_uri": "https://localhost:8080/"
        },
        "id": "OnbYmC6MLMOh",
        "outputId": "8c34c052-f5f9-4f89-80f0-1352e653e408"
      },
      "execution_count": 74,
      "outputs": [
        {
          "output_type": "stream",
          "name": "stdout",
          "text": [
            "추천 콘텐츠 시청완료율: 49.97%\n",
            "추천 콘텐츠 평균 시청 시간: 3755.44초\n",
            "비추천 콘텐츠 평균 시청 시간: 3744.68초\n"
          ]
        }
      ]
    },
    {
      "cell_type": "code",
      "source": [
        "# CTR(Click-Through Rate, 클릭률)도 함께 분석하려 했으나, watch duration의 값이 대체로 커서 기준값을 단순히 0초, 혹은 10초 이상으로 설정하면 모든 데이터가 해당되어서 제외함\n",
        "## 추천 알고리즘을 통해 콘텐츠를 시청 완료한 비율이 높다고 볼 수 없음\n",
        "### 추천 콘텐츠의 평균 시청 시간과 비추천 콘텐츠 평균 시청 시간이 큰 차이가 나지 않는 것으로 보아 컨텐츠 소비에 효과적으로 작동한다고는 볼 수 없음"
      ],
      "metadata": {
        "id": "IyNaVt-WLiE3"
      },
      "execution_count": null,
      "outputs": []
    },
    {
      "cell_type": "markdown",
      "source": [
        "**A/B 테스트 설계**"
      ],
      "metadata": {
        "id": "ivcU-PMBMHTj"
      }
    },
    {
      "cell_type": "code",
      "source": [
        "# Control 그룹: 기존 추천 알고리즘.\n",
        "# Test 그룹: 새로운 추천 알고리즘.\n",
        "## 지표: {완료율: 추천된 콘텐츠를 끝까지 시청한 비율, 평균 시청 시간: 추천 콘텐츠의 평균 시청 시간, 세그먼트 분석: 연령대 또는 기기 유형별로 분석}"
      ],
      "metadata": {
        "id": "yrKmbAGFMK9z"
      },
      "execution_count": null,
      "outputs": []
    },
    {
      "cell_type": "code",
      "source": [
        "# A/B 그룹 설정\n",
        "np.random.seed(42)\n",
        "user_ids = data_view_logs['user_id'].unique()\n",
        "user_groups = pd.DataFrame({\n",
        "    'user_id': user_ids,\n",
        "    'group': np.random.choice(['control', 'test'], size=len(user_ids), p=[0.5, 0.5])\n",
        "})\n",
        "view_logs_with_groups = data_view_logs.merge(user_groups, on='user_id')\n",
        "\n",
        "# Control 그룹과 Test 그룹 분리\n",
        "control_group = view_logs_with_groups[view_logs_with_groups['group'] == 'control']\n",
        "test_group = view_logs_with_groups[view_logs_with_groups['group'] == 'test']"
      ],
      "metadata": {
        "id": "wuGvFpkpPaSE"
      },
      "execution_count": 76,
      "outputs": []
    },
    {
      "cell_type": "code",
      "source": [
        "# 완료율 계산 함수\n",
        "def calculate_completion_rate(group):\n",
        "    completed = len(group[group['is_completed'] == True])\n",
        "    total = len(group)\n",
        "    return (completed / total) * 100\n",
        "\n",
        "# Control 및 Test 그룹 완료율\n",
        "control_completion_rate = calculate_completion_rate(control_group)\n",
        "test_completion_rate = calculate_completion_rate(test_group)"
      ],
      "metadata": {
        "id": "Ev74KwKyQEeR"
      },
      "execution_count": 77,
      "outputs": []
    },
    {
      "cell_type": "code",
      "source": [
        "# 평균 시청 시간 계산 함수\n",
        "def calculate_avg_watch_time(group):\n",
        "    return group['watched_duration'].mean()\n",
        "\n",
        "# Control 및 Test 그룹 평균 시청 시간\n",
        "control_avg_watch_time = calculate_avg_watch_time(control_group)\n",
        "test_avg_watch_time = calculate_avg_watch_time(test_group)"
      ],
      "metadata": {
        "id": "sSeeUfiFQUyd"
      },
      "execution_count": 78,
      "outputs": []
    },
    {
      "cell_type": "code",
      "source": [
        "# 통계적 유의성 검증 (완료율)\n",
        "control_completed = control_group['is_completed'].astype(int)  # 완료 여부를 1(True)/0(False)로 변환\n",
        "test_completed = test_group['is_completed'].astype(int)\n",
        "t_stat_completion, p_value_completion = ttest_ind(control_completed, test_completed)"
      ],
      "metadata": {
        "id": "tzOfsMBkQYXk"
      },
      "execution_count": 79,
      "outputs": []
    },
    {
      "cell_type": "code",
      "source": [
        "# 통계적 유의성 검증 (평균 시청 시간)\n",
        "t_stat_watch_time, p_value_watch_time = ttest_ind(control_group['watched_duration'], test_group['watched_duration'])"
      ],
      "metadata": {
        "id": "iHoqHeVVQbmX"
      },
      "execution_count": 80,
      "outputs": []
    },
    {
      "cell_type": "code",
      "source": [
        "# 결과 출력\n",
        "print(f\"Control 그룹 완료율: {control_completion_rate:.2f}%\")\n",
        "print(f\"Test 그룹 완료율: {test_completion_rate:.2f}%\")\n",
        "print(f\"Control 그룹 평균 시청 시간: {control_avg_watch_time:.2f}초\")\n",
        "print(f\"Test 그룹 평균 시청 시간: {test_avg_watch_time:.2f}초\")\n",
        "print(f\"완료율 T-검정: T-Statistic={t_stat_completion:.3f}, P-Value={p_value_completion:.3f}\")\n",
        "print(f\"평균 시청 시간 T-검정: T-Statistic={t_stat_watch_time:.3f}, P-Value={p_value_watch_time:.3f}\")"
      ],
      "metadata": {
        "colab": {
          "base_uri": "https://localhost:8080/"
        },
        "id": "5V0kc-sBQfOE",
        "outputId": "388d4ad0-4f71-45b1-f8aa-4f09b2ae2724"
      },
      "execution_count": 81,
      "outputs": [
        {
          "output_type": "stream",
          "name": "stdout",
          "text": [
            "Control 그룹 완료율: 49.77%\n",
            "Test 그룹 완료율: 49.98%\n",
            "Control 그룹 평균 시청 시간: 3743.75초\n",
            "Test 그룹 평균 시청 시간: 3749.89초\n",
            "완료율 T-검정: T-Statistic=-1.158, P-Value=0.247\n",
            "평균 시청 시간 T-검정: T-Statistic=-0.848, P-Value=0.396\n"
          ]
        }
      ]
    },
    {
      "cell_type": "code",
      "source": [
        "# 결과 시각화\n",
        "metrics = {\n",
        "    'Completion Rate (%)': [control_completion_rate, test_completion_rate],\n",
        "    'Average Watch Time (seconds)': [control_avg_watch_time, test_avg_watch_time]\n",
        "}\n",
        "metrics_df = pd.DataFrame(metrics, index=['Control', 'Test'])\n",
        "\n",
        "metrics_df.plot(kind='bar', figsize=(8, 6), alpha=0.7)\n",
        "plt.title('A/B Test Results', fontsize=16)\n",
        "plt.ylabel('Value', fontsize=12)\n",
        "plt.xticks(rotation=0)\n",
        "plt.grid(axis='y', linestyle='--', alpha=0.7)\n",
        "plt.legend(title='Metrics')\n",
        "plt.show()"
      ],
      "metadata": {
        "colab": {
          "base_uri": "https://localhost:8080/",
          "height": 547
        },
        "id": "WpO29U39Qh7L",
        "outputId": "dce13c05-e23d-4d2e-974e-edeb26714443"
      },
      "execution_count": 82,
      "outputs": [
        {
          "output_type": "display_data",
          "data": {
            "text/plain": [
              "<Figure size 800x600 with 1 Axes>"
            ],
            "image/png": "[encoded data removed]"
          },
          "metadata": {}
        }
      ]
    }
  ]
}